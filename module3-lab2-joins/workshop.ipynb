{
 "cells": [
  {
   "cell_type": "markdown",
   "metadata": {},
   "source": [
    "# Heroic Joins with SQL\n",
    "\n",
    "In this lab, we will explore the Marvel Superhero Universe using the concept of SQL `JOINS` (in particular, we'll be using `sqlite`). \n",
    "\n",
    "![Marvel Superheroes](figures/marvel.png) (from http://vignette1.wikia.nocookie.net/marveldatabase/images/e/e1/The_Marvel_Universe.png/revision/latest?cb=20110513164401)\n",
    "\n",
    "There are a **lot** of superheroes in the Marvel Universe, and a **lot** of superhero movies, so we'll just be examining a small portion today. As you'll see, we are storing the information about the superheroes separately from the information about the superhero movies. In addition, since superheroes frequently use aliases rather than their real names, it makes sense that we might want to store those real names separately from their superhero personae. \n",
    "\n",
    "When information is stored in separate tables, the way to recombine the information is to do a join. In SQL, JOIN is a means of combining fields from two tables by using values common to each.\n",
    "\n",
    "We commonly use Venn diagrams to represent the behavior of SQL joins, such as this one:   \n",
    "![SQL Joins](figures/sqljoins.jpg)\n",
    "\n",
    "Here are some additional resources that you may find helpful as you are learning about and practicing SQL JOINS (and using `sqlite`):\n",
    "\n",
    "- [Tutorials point on Joins](http://www.tutorialspoint.com/sql/sql-using-joins.htm)\n",
    "    - [Tutorials point specifically for sqlite](http://www.tutorialspoint.com/sqlite/)    \n",
    "    \n",
    "- [W3 schools on Joins](http://www.w3schools.com/sql/sql_join.asp)\n",
    "    - [W3 schools resources specifically for sqlite](http://www.w3resource.com/sqlite/index.php)    \n",
    "    \n",
    "- [A visual explanation of sql joins](http://blog.codinghorror.com/a-visual-explanation-of-sql-joins/)\n",
    "\n",
    "\n",
    "## Get Connected\n",
    "\n",
    "Ok, let's get started. The first thing we need to do is import `sqlite`:"
   ]
  },
  {
   "cell_type": "code",
   "execution_count": 1,
   "metadata": {},
   "outputs": [],
   "source": [
    "import sqlite3"
   ]
  },
  {
   "cell_type": "markdown",
   "metadata": {},
   "source": [
    "Next, we need to establish a connection to the database. In this case, I have already built a database for you called \"superheroes.db\", and it will be *your* job to implement different kinds of joins in order to answer the questions below."
   ]
  },
  {
   "cell_type": "code",
   "execution_count": 3,
   "metadata": {},
   "outputs": [],
   "source": [
    "DBPATH = 'superheroes.db'\n",
    "conn = sqlite3.connect(DBPATH)\n"
   ]
  },
  {
   "cell_type": "markdown",
   "metadata": {},
   "source": [
    "Here is what the database looks like:\n",
    "\n",
    "![SuperheroesDB](figures/superheroesDB.png)\n",
    "\n",
    "Next we'll create a cursor object to help us execute our SQL statements:"
   ]
  },
  {
   "cell_type": "code",
   "execution_count": 12,
   "metadata": {},
   "outputs": [],
   "source": [
    "cursor = conn.cursor()\n"
   ]
  },
  {
   "cell_type": "markdown",
   "metadata": {},
   "source": [
    "The JOIN statements we write will all follow roughly the same pattern that our SELECT statements followed in this morning's workshop. That is to say they will look something like:\n",
    "\n",
    "```python\n",
    "cursor.execute(\"\"\"\n",
    "    SELECT \n",
    "        [information] \n",
    "    FROM \n",
    "        [first_table] \n",
    "    [SOME JOIN] \n",
    "        [second_table] ON firsttable.column_name = secondtable.column_name\n",
    "\"\"\")\n",
    "  \n",
    "print(cursor.fetchall())\n",
    "```\n",
    "\n",
    "Note that the code above uses `\"\"\"` which is a Python feature to have newlines/carriage returns in a string.  The multiple line formatting shown above are not needed but help with readability.\n",
    "\n",
    "\n",
    "## Who's the star of the movie?\n",
    "\n",
    "How can we query our database to determine who is the star of the movie? In this case, let's use LEFT JOIN to pair the title of each movie with the name of its main character."
   ]
  },
  {
   "cell_type": "code",
   "execution_count": 7,
   "metadata": {},
   "outputs": [
    {
     "name": "stdout",
     "output_type": "stream",
     "text": [
      "[('Iron Man', 'Iron Man'), ('Iron Man 2', 'Iron Man'), ('Iron Man 3', 'Iron Man'), ('Guardians of the Galaxy', 'Starlord'), ('Ant-Man', 'Ant-Man'), ('Deadpool', 'Deadpool'), ('The Incredible Hulk', 'Hulk'), ('Captain America: The First Avenger', 'Captain America')]\n"
     ]
    }
   ],
   "source": [
    "# Write the SQL code here\n",
    "\n",
    "cursor.execute(\"\"\"\n",
    "    SELECT \n",
    "        Movies.title, Superheroes.name\n",
    "    FROM \n",
    "        Movies\n",
    "    LEFT JOIN \n",
    "        Superheroes ON Movies.superhero_id = Superheroes.id\n",
    "\"\"\")\n",
    "  \n",
    "print(cursor.fetchall())"
   ]
  },
  {
   "cell_type": "markdown",
   "metadata": {},
   "source": [
    "## What's your *real* name?\n",
    "\n",
    "We can also use LEFT JOIN to query our database to find out a superhero's real name.  Let's pair the real name of each character with their superhero alias."
   ]
  },
  {
   "cell_type": "code",
   "execution_count": 9,
   "metadata": {
    "scrolled": true
   },
   "outputs": [
    {
     "name": "stdout",
     "output_type": "stream",
     "text": [
      "[('Iron Man', 'Tony Stark'), ('Ant-Man', 'Hank Pym'), ('Ant-Man', 'Scott Lang'), ('Deadpool', 'Wade Wilson'), ('Black Widow', 'Natasha Romanov'), ('Captain America', 'Steve Rogers'), ('Hawkeye', 'Clint Barton'), ('Hulk', 'Bruce Banner'), ('Starlord', 'Peter Quill')]\n"
     ]
    }
   ],
   "source": [
    "# Write the SQL code here:\n",
    "\n",
    "cursor.execute(\"\"\"\n",
    "    SELECT \n",
    "        Superheroes.name, RealNames.name\n",
    "    FROM \n",
    "        Superheroes\n",
    "    LEFT JOIN \n",
    "        RealNames ON RealNames.superhero_id = Superheroes.id\n",
    "\"\"\")\n",
    "  \n",
    "print(cursor.fetchall())"
   ]
  },
  {
   "cell_type": "code",
   "execution_count": 11,
   "metadata": {},
   "outputs": [
    {
     "name": "stdout",
     "output_type": "stream",
     "text": [
      "[('Iron Man', 'Tony Stark'), ('Hulk', 'Bruce Banner'), ('Black Widow', 'Natasha Romanov'), ('Ant-Man', 'Scott Lang'), ('Ant-Man', 'Hank Pym'), ('Captain America', 'Steve Rogers'), ('Hawkeye', 'Clint Barton'), ('Deadpool', 'Wade Wilson'), ('Starlord', 'Peter Quill'), (None, 'Nick Fury')]\n"
     ]
    }
   ],
   "source": [
    "#Note: Unclear if we wanted the real names for the listed heroes ONLY, or if we wanted to check which characters have a hero alias, or if we only wanted a list of characters with aliases\n",
    "\n",
    "cursor.execute(\"\"\"\n",
    "    SELECT \n",
    "        Superheroes.name, RealNames.name\n",
    "    FROM \n",
    "        RealNames\n",
    "    LEFT JOIN \n",
    "        Superheroes ON RealNames.superhero_id = Superheroes.id\n",
    "\"\"\")\n",
    "  \n",
    "print(cursor.fetchall())"
   ]
  },
  {
   "cell_type": "markdown",
   "metadata": {},
   "source": [
    "## Who's actually a superhero?\n",
    "\n",
    "Let's use an INNER JOIN to select only characters who have a superhero alias."
   ]
  },
  {
   "cell_type": "code",
   "execution_count": 15,
   "metadata": {},
   "outputs": [
    {
     "name": "stdout",
     "output_type": "stream",
     "text": [
      "[('Tony Stark', 'Iron Man'), ('Bruce Banner', 'Hulk'), ('Natasha Romanov', 'Black Widow'), ('Scott Lang', 'Ant-Man'), ('Hank Pym', 'Ant-Man'), ('Steve Rogers', 'Captain America'), ('Clint Barton', 'Hawkeye'), ('Wade Wilson', 'Deadpool'), ('Peter Quill', 'Starlord')]\n"
     ]
    }
   ],
   "source": [
    "# Write the SQL code here:\n",
    "\n",
    "cursor.execute(\"\"\"\n",
    "    SELECT \n",
    "        RealNames.name, Superheroes.name\n",
    "    FROM \n",
    "        RealNames\n",
    "    INNER JOIN \n",
    "        Superheroes ON RealNames.superhero_id = Superheroes.id\n",
    "\"\"\")\n",
    "  \n",
    "print(cursor.fetchall())"
   ]
  },
  {
   "cell_type": "markdown",
   "metadata": {},
   "source": [
    "## Which superheroes have their own movies?\n",
    "\n",
    "Not all superheroes have their own movies. Let's use another INNER JOIN to select only superheroes who have a lead role in a movie."
   ]
  },
  {
   "cell_type": "code",
   "execution_count": 39,
   "metadata": {},
   "outputs": [
    {
     "name": "stdout",
     "output_type": "stream",
     "text": [
      "[('Iron Man', 'Iron Man'), ('Iron Man', 'Iron Man 2'), ('Iron Man', 'Iron Man 3'), ('Starlord', 'Guardians of the Galaxy'), ('Ant-Man', 'Ant-Man'), ('Deadpool', 'Deadpool'), ('Hulk', 'The Incredible Hulk'), ('Captain America', 'Captain America: The First Avenger')]\n"
     ]
    }
   ],
   "source": [
    "#Could we loop through the heroes list and check if they are a lead in Movies to only list them once?\n",
    "#ex: IronMan is listed a total of 3 times\n",
    "\n",
    "# Write the SQL code here:\n",
    "cursor.execute(\"\"\"\n",
    "    SELECT \n",
    "        Superheroes.name, Movies.title\n",
    "    FROM \n",
    "        Superheroes \n",
    "    INNER JOIN \n",
    "        Movies ON Movies.superhero_id = Superheroes.id\n",
    "\"\"\")\n",
    "  \n",
    "print(cursor.fetchall())"
   ]
  },
  {
   "cell_type": "markdown",
   "metadata": {},
   "source": [
    "## What's in a name?\n",
    "\n",
    "Which movies are named things other than (just) the name of the lead superhero? Let's experiment with using a LEFT OUTER JOIN to select only the movies that don't share the same name as the lead superhero.  Hint: you will also need a WHERE clause!"
   ]
  },
  {
   "cell_type": "code",
   "execution_count": 17,
   "metadata": {},
   "outputs": [
    {
     "name": "stdout",
     "output_type": "stream",
     "text": [
      "[('Guardians of the Galaxy', 'Starlord')]\n"
     ]
    }
   ],
   "source": [
    "# Write the SQL code here:\n",
    "cursor.execute(\"\"\"\n",
    "    SELECT \n",
    "        Movies.title, Superheroes.name\n",
    "    FROM \n",
    "        Superheroes \n",
    "    LEFT OUTER JOIN \n",
    "        Movies ON Superheroes.id = Movies.superhero_id\n",
    "    WHERE Movies.title NOT LIKE '%' || Superheroes.name || '%'\n",
    "\n",
    "\"\"\")\n",
    "  \n",
    "print(cursor.fetchall())"
   ]
  },
  {
   "cell_type": "code",
   "execution_count": 14,
   "metadata": {},
   "outputs": [
    {
     "name": "stdout",
     "output_type": "stream",
     "text": [
      "[('Iron Man 2',), ('Iron Man 3',), ('Guardians of the Galaxy',), ('The Incredible Hulk',), ('Captain America: The First Avenger',)]\n"
     ]
    }
   ],
   "source": [
    "cursor.execute(\"\"\"\n",
    "    SELECT \n",
    "        Movies.title \n",
    "    FROM \n",
    "        Movies \n",
    "    LEFT OUTER JOIN \n",
    "        Superheroes ON Movies.title = Superheroes.name \n",
    "    WHERE \n",
    "        Superheroes.name IS null\n",
    "\"\"\")\n",
    "  \n",
    "print(cursor.fetchall())"
   ]
  },
  {
   "cell_type": "markdown",
   "metadata": {},
   "source": [
    "...and which superheroes don't have movies named (strictly) after them? Let's use another LEFT OUTER JOIN combined with a WHERE clause to select only the superheroes that *don't* share a name with a movie title."
   ]
  },
  {
   "cell_type": "code",
   "execution_count": 19,
   "metadata": {},
   "outputs": [
    {
     "name": "stdout",
     "output_type": "stream",
     "text": [
      "[('Black Widow',), ('Hawkeye',), ('Starlord',)]\n"
     ]
    }
   ],
   "source": [
    "# Write the SQL code here:\n",
    "#is there a way to accomplish this without the 'OR' clause?\n",
    "\n",
    "cursor.execute(\"\"\"\n",
    "    SELECT \n",
    "        Superheroes.name\n",
    "    FROM \n",
    "        Superheroes \n",
    "    LEFT OUTER JOIN \n",
    "        Movies ON Superheroes.id = Movies.superhero_id\n",
    "        WHERE Movies.title NOT LIKE '%' || Superheroes.name || '%' OR Movies.superhero_id is NULL \n",
    "\"\"\")\n",
    "  \n",
    "print(cursor.fetchall())"
   ]
  },
  {
   "cell_type": "code",
   "execution_count": 16,
   "metadata": {},
   "outputs": [
    {
     "name": "stdout",
     "output_type": "stream",
     "text": [
      "[('Black Widow',), ('Captain America',), ('Hawkeye',), ('Hulk',), ('Starlord',)]\n"
     ]
    }
   ],
   "source": [
    "cursor.execute(\"\"\"\n",
    "    SELECT \n",
    "        Superheroes.name \n",
    "    FROM \n",
    "        Superheroes \n",
    "    LEFT OUTER JOIN \n",
    "        Movies ON Superheroes.name = Movies.title \n",
    "    WHERE \n",
    "        Movies.id IS null\n",
    "\"\"\")\n",
    "  \n",
    "print(cursor.fetchall())"
   ]
  },
  {
   "cell_type": "code",
   "execution_count": null,
   "metadata": {},
   "outputs": [],
   "source": []
  }
 ],
 "metadata": {
  "kernelspec": {
   "display_name": "Python 3 (ipykernel)",
   "language": "python",
   "name": "python3"
  },
  "language_info": {
   "codemirror_mode": {
    "name": "ipython",
    "version": 3
   },
   "file_extension": ".py",
   "mimetype": "text/x-python",
   "name": "python",
   "nbconvert_exporter": "python",
   "pygments_lexer": "ipython3",
   "version": "3.12.3"
  }
 },
 "nbformat": 4,
 "nbformat_minor": 4
}
